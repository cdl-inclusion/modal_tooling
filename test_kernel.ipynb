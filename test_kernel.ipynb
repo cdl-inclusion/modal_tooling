{
 "cells": [
  {
   "cell_type": "markdown",
   "id": "a086efcc",
   "metadata": {},
   "source": [
    "# Remote jupyter notebook kernel test\n",
    "\n",
    "This notebook is meant to test a remove jupyter notebook kernel.\n",
    "\n",
    "* Start you jupyter notebook kernel on modal by running the python script `start_jupyter_kernel.py`. \n",
    "* When successfully started, it will show you the notebook URL (including token), eg like this:\n",
    "```\n",
    "🏖️  Creating sandbox\n",
    "🏖️  Sandbox ID: sb-K4Ceki3ci8fOy7ClHoGhkQ\n",
    "🏖️  Jupyter notebook is running at: https://rujdu13jsj18xsrnx.r439.modal.host/?token=5kz1d2q5eMPDaLEh9YzJA\n",
    "🏖️  Jupyter is up and running!\n",
    "```\n",
    "\n",
    "The URL and token will change in every session!\n",
    "\n",
    "* Now, use this URL (including the token) to connect your jupyter notebook to a remote kernel (`enter remote URL`). Select the recommended python kernel. \n",
    "* --> your ipython notebook runs against this remote kernel.\n",
    "\n",
    "In your Modal dashboard, you can see the kernel under `Sandboxes`. Don't forget to terminate your sandbox, when you're done using it (otherwise, cost will incur)."
   ]
  },
  {
   "cell_type": "code",
   "execution_count": 2,
   "id": "14f12cc5",
   "metadata": {},
   "outputs": [
    {
     "name": "stdout",
     "output_type": "stream",
     "text": [
      "Wed Jul 23 00:17:51 2025       \n",
      "+-----------------------------------------------------------------------------------------+\n",
      "| NVIDIA-SMI 575.57.08              Driver Version: 575.57.08      CUDA Version: 12.9     |\n",
      "|-----------------------------------------+------------------------+----------------------+\n",
      "| GPU  Name                 Persistence-M | Bus-Id          Disp.A | Volatile Uncorr. ECC |\n",
      "| Fan  Temp   Perf          Pwr:Usage/Cap |           Memory-Usage | GPU-Util  Compute M. |\n",
      "|                                         |                        |               MIG M. |\n",
      "|=========================================+========================+======================|\n",
      "|   0  NVIDIA A100-SXM4-40GB          On  |   00000000:15:00.0 Off |                    0 |\n",
      "| N/A   29C    P0             54W /  400W |       0MiB /  40960MiB |      0%      Default |\n",
      "|                                         |                        |             Disabled |\n",
      "+-----------------------------------------+------------------------+----------------------+\n",
      "                                                                                         \n",
      "+-----------------------------------------------------------------------------------------+\n",
      "| Processes:                                                                              |\n",
      "|  GPU   GI   CI              PID   Type   Process name                        GPU Memory |\n",
      "|        ID   ID                                                               Usage      |\n",
      "|=========================================================================================|\n",
      "|  No running processes found                                                             |\n",
      "+-----------------------------------------------------------------------------------------+\n"
     ]
    }
   ],
   "source": [
    "# lets check whether we have the expected GPU(s)\n",
    "!nvidia-smi"
   ]
  },
  {
   "cell_type": "code",
   "execution_count": 3,
   "id": "40c07e66",
   "metadata": {},
   "outputs": [
    {
     "name": "stdout",
     "output_type": "stream",
     "text": [
      "GPU available: True\n",
      "GPU memory: 42.4 GB\n",
      "GPU memory allocated: 0.0 GB\n"
     ]
    }
   ],
   "source": [
    "# lets get GPU info via pytorch\n",
    "import torch\n",
    "print(f\"GPU available: {torch.cuda.is_available()}\")\n",
    "print(f\"GPU memory: {torch.cuda.get_device_properties(0).total_memory / 1e9:.1f} GB\")\n",
    "print(f\"GPU memory allocated: {torch.cuda.memory_allocated() / 1e9:.1f} GB\")"
   ]
  },
  {
   "cell_type": "markdown",
   "id": "4eab1999",
   "metadata": {},
   "source": []
  }
 ],
 "metadata": {
  "kernelspec": {
   "display_name": "Python 3 (ipykernel)",
   "language": "python",
   "name": "python3"
  },
  "language_info": {
   "codemirror_mode": {
    "name": "ipython",
    "version": 3
   },
   "file_extension": ".py",
   "mimetype": "text/x-python",
   "name": "python",
   "nbconvert_exporter": "python",
   "pygments_lexer": "ipython3",
   "version": "3.11.5"
  }
 },
 "nbformat": 4,
 "nbformat_minor": 5
}
